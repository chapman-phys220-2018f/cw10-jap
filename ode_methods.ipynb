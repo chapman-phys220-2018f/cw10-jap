{
 "cells": [
  {
   "cell_type": "markdown",
   "metadata": {
    "collapsed": false
   },
   "source": [
    "Notes:\n",
    "\n",
    "- solution to a differential equation is a function or set of functions\n",
    "- Euler's Method serves as the basis for all others\n",
    "- The names of each method gives insight to how the functions look/behave graphically"
   ]
  },
  {
   "cell_type": "markdown",
   "metadata": {
    "collapsed": false
   },
   "source": [
    "Solving differential equation with initial condition:\n",
    "\n",
    "$dy/dx = cos(x)$ $y(0) = -1$"
   ]
  },
  {
   "cell_type": "markdown",
   "metadata": {
    "collapsed": false
   },
   "source": [
    "multiply both sides by $dx$\n",
    "$$1dy = cos(x)dx$$\n",
    "find the antiderivative of both sides\n",
    "$$\\int 1dy = \\int cos(x)dx$$\n",
    "$$y = sin(x)+C; y(0) = -1$$\n",
    "plug $y(0) = -1$ into any $y$ values\n",
    "$$-1 = sin(0) + C$$\n",
    "$$-1 = 0 + C$$\n",
    "$$-1 = C$$\n",
    "plug $C$ in to achieve particular solution\n",
    "$$y = sin(x) - 1$$"
   ]
  },
  {
   "cell_type": "markdown",
   "metadata": {
    "collapsed": false
   },
   "source": [
    "Euler Method:\n",
    "- Euler method is used to obtain solutions numerically. From any point on a curve, you can find an approximate of a nearby point on the curve by moving a short distance along a line tangent to the curve\n",
    "- Looking at the taylor expansion, Euler Method solves to an error squared/of order 2.\n",
    "    - $f(t+\\Delta t)=f(t)+f'(t)\\Delta t+\\mathcal{O}(\\Delta t)^2$\n",
    "    - IDEA: the curve is initially unknown but the starting point is known. From a differential equation the slope to the curve at the starting point can be computed and the tangent line"
   ]
  },
  {
   "cell_type": "markdown",
   "metadata": {
    "collapsed": false
   },
   "source": [
    "Leapfrog (Midpoint) Method:\n",
    "- The Leapfrog Method takes the initial starting point (similar to Euler) then takes a \"step\" back on the graph ($\\Delta t$) and finds the point along that slope instead\n",
    "- Euler's Method finds the next point when the tangent intersectsthe vertical line ($\\Delta t$) which veers away from the curve/larger error. Leapfrog Method uses the tangent at the midpoint which yeilds a more accurate approximation of the curve\n",
    "- Looking at the taylor expansion, Leapfrog Method solves to an error cubed/of order 3 which is a smaller error/more accurate compared to Euler Method\n",
    "    - $f(t+\\Delta t)-f(t-\\Delta t)=2f'(t)\\Delta t+\\mathcal{O}(\\Delta t)^3$"
   ]
  },
  {
   "cell_type": "markdown",
   "metadata": {
    "collapsed": false
   },
   "source": [
    "Heun's (Trapezoid) Method:\n",
    "- Euler Method improves linearly when the step size is decreased. Heun Method improves accuracy quadratically\n",
    "- The point estimated by Heun's Method takes both tangent lines provided by the points determined by Euler's Method, then takes the average between the two intersections of the tangent lines to $\\Delta t$ (In the equation below (x-y coordinates), h is equivalent to $\\Delta t$)\n",
    "    - $y_{n+1} = y_n + (h/2)(f(x_n,y_n)+f(x_n+h, y_n+hf(x_n,y_n)))$"
   ]
  },
  {
   "cell_type": "markdown",
   "metadata": {
    "collapsed": false
   },
   "source": [
    "2nd-order Runge-Kutta Method:\n",
    "\n",
    "- "
   ]
  }
 ],
 "metadata": {
  "kernelspec": {
   "display_name": "Python 3 (Anaconda 5)",
   "language": "python",
   "name": "anaconda5"
  },
  "language_info": {
   "codemirror_mode": {
    "name": "ipython",
    "version": 3
   },
   "file_extension": ".py",
   "mimetype": "text/x-python",
   "name": "python",
   "nbconvert_exporter": "python",
   "pygments_lexer": "ipython3",
   "version": "3.6.5"
  }
 },
 "nbformat": 4,
 "nbformat_minor": 0
}