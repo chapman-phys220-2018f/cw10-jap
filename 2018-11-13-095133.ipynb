{
 "cells": [
  {
   "cell_type": "markdown",
   "metadata": {
    "collapsed": false
   },
   "source": [
    " $$u'(t) = f[t, u(t)]$$\n",
    " $u'(t) = 2 u(t)$\n",
    " \n",
    " $u'(t) = 2t^2u(t)$\n",
    "\n",
    "\n"
   ]
  },
  {
   "cell_type": "markdown",
   "metadata": {
    "collapsed": false
   },
   "source": [
    " $u'(t) = 2u(t)$ yields $u(t) = u_0 \\exp(2 t)$,"
   ]
  },
  {
   "cell_type": "markdown",
   "metadata": {
    "collapsed": false
   },
   "source": [
    "$(t_0, t_1, t_2, ..., t_N)$\n",
    "\n",
    "\n",
    "\n",
    "\n",
    "$\\tilde{u}_{k+1} = u_k + \\Delta t, f[t_k, u_k]$,\n",
    "\n",
    "\n",
    "\n",
    "\n",
    "\n",
    "\n",
    "$u_{k+1} = u_k + (\\Delta t/2)(f[t_k, u_k] + f[t_{k+1}, \\tilde{u}_{k+1}])$\n"
   ]
  },
  {
   "cell_type": "code",
   "execution_count": 0,
   "metadata": {
    "collapsed": false
   },
   "outputs": [
   ],
   "source": [
   ]
  }
 ],
 "metadata": {
  "kernelspec": {
   "display_name": "Python 3 (Anaconda 5)",
   "language": "python",
   "name": "anaconda5"
  }
 },
 "nbformat": 4,
 "nbformat_minor": 0
}